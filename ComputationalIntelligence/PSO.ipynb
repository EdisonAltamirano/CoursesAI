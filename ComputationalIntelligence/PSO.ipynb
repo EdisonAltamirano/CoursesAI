{
 "cells": [
  {
   "cell_type": "code",
   "execution_count": 39,
   "id": "01055ee9",
   "metadata": {},
   "outputs": [],
   "source": [
    "import math\n",
    "import random\n",
    "e = 2.718\n",
    "class Particle:\n",
    "    def __init__(self,alpha,beta,vel):\n",
    "        self.localx=random.uniform(-32.768,32.768)\n",
    "        self.localy=random.uniform(-32.768,32.768)\n",
    "        self.bestl=2000\n",
    "        self.bestl_x=0\n",
    "        self.bestl_y=0\n",
    "        self.vel_x=0\n",
    "        self.vel_y=0\n",
    "        self.alpha = alpha\n",
    "        self.beta = beta\n",
    "        self.vel_cte = vel\n",
    "    def best_local(self):\n",
    "        #Ackley Function  \n",
    "        self.local = -20*e**(-0.2*math.sqrt(0.5*(self.localx**2+self.localy**2)))-e**(0.5*(math.cos(2*math.pi*self.localx)+math.cos(2*math.pi*self.localy)))+e+20\n",
    "        if self.local < self.bestl:\n",
    "            self.bestl=self.local\n",
    "            self.bestl_x=self.localx\n",
    "            self. bestl_y=self.localy\n",
    "    #Update velocity\n",
    "    def update_vel(self,bestg_x,bestg_y):\n",
    "        self.vel_x=self.vel_x +self.alpha*random.random()*(bestg_x - self.localx) + self.beta*random.random()*(self.bestl_x - self.localx)\n",
    "        self.vel_x=self.vel_cte if self.vel_x>self.vel_cte else - self.vel_cte\n",
    "        self.vel_y=self.vel_y +self.alpha*random.random()*(bestg_y - self.localy) + self.beta*random.random()*(self.bestl_y - self.localy)\n",
    "        self.vel_y=self.vel_cte if self.vel_y>self.vel_cte else - self.vel_cte    \n",
    "        vely = self.vel_y + self.localy\n",
    "        velx = self.vel_x + self.localx\n",
    "        if velx > self.vel_cte:\n",
    "            self.localx = self.vel_cte\n",
    "        elif velx < -self.vel_cte:\n",
    "            self.localx = -self.vel_cte\n",
    "        else:\n",
    "            self.localx += self.vel_x\n",
    "        if vely > self.vel_cte:\n",
    "            self.localy = self.vel_cte\n",
    "        elif vely < -self.vel_cte:\n",
    "            self.localy = -self.vel_cte\n",
    "        else:\n",
    "            self.localy += self.vel_y\n",
    "class Swarm:\n",
    "    def __init__(self,particles,alpha,beta,vel):\n",
    "        self.globalx=0\n",
    "        self.globaly=0\n",
    "        self.bestg = 30\n",
    "        self.alpha = alpha\n",
    "        self.beta = beta\n",
    "        self.bestg_x = 0\n",
    "        self.bestg_y = 0\n",
    "        self.vel_cte = vel\n",
    "        self.particles=[]\n",
    "        for i in range(particles):\n",
    "            p=Particle(self.alpha,self.beta,self.vel_cte)\n",
    "            self.particles.append(p)\n",
    "    def best_global(self):\n",
    "        #Iterate Particles for best Local\n",
    "        for p in self.particles:\n",
    "            p.best_local()\n",
    "            if p.local<self.bestg:\n",
    "                #Best Global\n",
    "                self.bestg = p.local\n",
    "                self.bestg_x = p.localx\n",
    "                self.bestg_y = p.localy\n",
    "        print(\"Best global: \",self.bestg)"
   ]
  },
  {
   "cell_type": "code",
   "execution_count": 40,
   "id": "ae1be379",
   "metadata": {},
   "outputs": [
    {
     "name": "stdout",
     "output_type": "stream",
     "text": [
      "Best global:  6.656994157656282\n",
      "Best global:  6.656994157656282\n",
      "Best global:  0.0\n",
      "Fount in 3 moves\n"
     ]
    }
   ],
   "source": [
    "swarm=Swarm(40,5,5,5)\n",
    "count=0\n",
    "while swarm.bestg > 0.000000001:\n",
    "    swarm.best_global()\n",
    "    for p in swarm.particles:\n",
    "        p.update_vel(swarm.bestg_x,swarm.bestg_y)\n",
    "    count += 1\n",
    "print (\"Fount in \" + str(count) + \" moves\")"
   ]
  },
  {
   "cell_type": "code",
   "execution_count": null,
   "id": "fa5771b5",
   "metadata": {},
   "outputs": [],
   "source": []
  },
  {
   "cell_type": "code",
   "execution_count": null,
   "id": "18b6bdd1",
   "metadata": {},
   "outputs": [],
   "source": []
  }
 ],
 "metadata": {
  "kernelspec": {
   "display_name": "Python 3.8.8 ('base')",
   "language": "python",
   "name": "python3"
  },
  "language_info": {
   "codemirror_mode": {
    "name": "ipython",
    "version": 3
   },
   "file_extension": ".py",
   "mimetype": "text/x-python",
   "name": "python",
   "nbconvert_exporter": "python",
   "pygments_lexer": "ipython3",
   "version": "3.8.8"
  },
  "vscode": {
   "interpreter": {
    "hash": "871e517d4d32302a08283964b8db43a4ff130a1e4460401b2bf822218696f1c1"
   }
  }
 },
 "nbformat": 4,
 "nbformat_minor": 5
}
