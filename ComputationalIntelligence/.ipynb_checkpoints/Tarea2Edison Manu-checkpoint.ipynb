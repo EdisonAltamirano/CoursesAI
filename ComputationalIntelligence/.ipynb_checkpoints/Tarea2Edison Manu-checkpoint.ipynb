{
 "cells": [
  {
   "cell_type": "code",
   "execution_count": 265,
   "metadata": {},
   "outputs": [],
   "source": [
    "import numpy as np\n",
    "import matplotlib.pyplot as plt\n",
    "import random\n",
    "import math\n",
    "\n",
    "\n",
    "class AnnealTVS():\n",
    "    def __init__(self, dataframe, K = 2, markov_length = 100, stopK = 0.1, alpha = 0.99,gamma=1, \n",
    "        all_distances=False, return_solution=False):\n",
    "        \"\"\"A class that tries to solve a given TVS problem using Simulated Annealing.\n",
    "        Args:\n",
    "            dataframe (Pandas Dataframe): A dataframe that contains the coordinates of the TVS problem.\n",
    "            K (int, optional): Starting temperature. Defaults to 2.\n",
    "            markov_length (int, optional): The length of the markov chain at every temperature. Defaults to 100.\n",
    "            stopK (float, optional): The final temperature. Defaults to 0.1.\n",
    "            alpha (float, optional): The amount by which the temperature is multiplied at every step. Should be lower than 1. Defaults to 0.99.\n",
    "            gamma (int, optional): The amount the starting temperature gets multiplied with at every step. Defaults to 1.\n",
    "            all_distances (Bool, optional): Choose whether you want to return all distances and temperatures.\n",
    "            return_solution (Bool, optional): Choose whether to return the solution.\n",
    "        \"\"\"\n",
    "        assert alpha < 1, \"Alpha should be <1\"\n",
    "        self.df = dataframe\n",
    "        self.K = K\n",
    "        self.startK = K\n",
    "        self.stopK = stopK\n",
    "        self.alpha = alpha\n",
    "        self.gamma = gamma\n",
    "        self.markov_length = markov_length\n",
    "        self.all_distances = all_distances\n",
    "        self.return_solution = return_solution\n",
    "\n",
    "            \n",
    "        # start with a simple solution\n",
    "        self.dist_matrix = self.build_matrix()\n",
    "        self.solution = self.nearest_neighbours()\n",
    "\n",
    "\n",
    "    def run_sim(self):\n",
    "        \"\"\"Calls the simulated annealing algorithm.\n",
    "        Returns:\n",
    "            list: A list with the results of every run\n",
    "        \"\"\"\n",
    "        self.startK=self.startK * self.gamma\n",
    "        self.K = self.startK\n",
    "        return self.sim_anneal()\n",
    "\n",
    "\n",
    "    def sim_anneal(self):\n",
    "        \"\"\"The Simulated annealing algorithm\n",
    "        Raises:\n",
    "            ValueError: The elementary edit should be one of the implemented strategies.\n",
    "        Returns:\n",
    "            Float: The final total distance of the path.\n",
    "        \"\"\"\n",
    "        assert self.alpha < 1, \"choose a smaller alpha\"\n",
    "        all_dist = []\n",
    "        temperature = []\n",
    "        old_dist = self.total_distance()\n",
    "        i=0\n",
    "        while(self.K>self.stopK):\n",
    "            # run an epoch\n",
    "            for i in range(self.markov_length):\n",
    "                temperature.append(self.K)\n",
    "                all_dist.append(self.total_distance())\n",
    "                new_solution = self.swap()\n",
    "\n",
    "                new_dist = self.total_distance(new_solution)\n",
    "                # decide whether to accept the new solution\n",
    "                if new_dist < old_dist:\n",
    "                    self.solution = new_solution\n",
    "                    old_dist = self.total_distance()\n",
    "                else:\n",
    "                    # accept with probability depending on temperature\n",
    "                    rand = np.random.random()\n",
    "                    prob = math.exp((-1*(new_dist - old_dist)) / self.K )\n",
    "                    if rand < prob:\n",
    "                        self.solution = new_solution\n",
    "                        old_dist = self.total_distance()\n",
    "            # scale the cooling scheme to start lower every next simulation\n",
    "            self.K *= self.alpha \n",
    "\n",
    "        if self.all_distances:\n",
    "            returns = [all_dist, temperature]\n",
    "        else:\n",
    "            returns = self.total_distance()\n",
    "        if self.return_solution:\n",
    "            returns = [returns, self.solution]\n",
    "            \n",
    "        print(\"Ruta más corta:% s\"%self.total_distance())\n",
    " \n",
    "        return returns\n",
    "\n",
    "\n",
    "    def nearest_neighbours(self):\n",
    "        \"\"\"Creates a starting point using a greedy nearest neighbour algorithm.\n",
    "        Returns:\n",
    "            List: A list with the order of the cities that are travelled.\n",
    "        \"\"\"\n",
    "        free_nodes = []\n",
    "        for row in range(self.df.shape[0]):\n",
    "            free_nodes.append(self.df.iloc[row].name)\n",
    "\n",
    "        sol = []\n",
    "        cur_node = self.df.loc[random.choice(free_nodes)]\n",
    "        sol.append(cur_node.name)\n",
    "        free_nodes.remove(cur_node.name)\n",
    "\n",
    "        while free_nodes:\n",
    "            first = True\n",
    "            for node in free_nodes:\n",
    "                next_node = self.df.loc[node]\n",
    "                new_dist = self.get_distance(cur_node[\"x\"], cur_node[\"y\"], next_node[\"x\"], next_node[\"y\"])\n",
    "                if first:\n",
    "                    closest = node\n",
    "                    old_dist = new_dist\n",
    "                    first = False\n",
    "                else: \n",
    "                    if new_dist < old_dist:\n",
    "                        closest = node\n",
    "                        old_dist = new_dist\n",
    "            sol.append(closest)\n",
    "            cur_node = self.df.loc[closest]\n",
    "            free_nodes.remove(closest)\n",
    "\n",
    "        return sol\n",
    "\n",
    "\n",
    "\n",
    "    def swap(self):\n",
    "        \"\"\"A simple swap elementary edit.\n",
    "        Returns:\n",
    "            list: New solution.\n",
    "        \"\"\"\n",
    "        i1, i2 = random.sample(range(0, len(self.solution)-1), 2)\n",
    "        new_solution = self.solution[:]\n",
    "        new_solution[i1], new_solution[i2] = new_solution[i2], new_solution[i1]\n",
    "        return new_solution\n",
    "\n",
    "    def opt2(self):\n",
    "        \"\"\"Changes the order between two cities, effectively untangling any knots in between.\n",
    "        Returns:\n",
    "            list: New solution.\n",
    "        \"\"\"\n",
    "        i = random.randint(0, len(self.solution)-2)\n",
    "        k = i+random.randint(1, len(self.solution) -1 -i)\n",
    "        new_solution = self.solution[0:i]\n",
    "\n",
    "        for j in range((k-i), -1, -1):\n",
    "            new_solution.append(self.solution[i+j])\n",
    "        new_solution = new_solution + self.solution[(k+1):len(self.solution)]\n",
    "        #assert len(new_solution) == len(self.solution)\n",
    "        return new_solution\n",
    "\n",
    "\n",
    "    def get_distance(self,x1, y1, x2, y2) :\n",
    "        \"\"\"Computes the Euclidean distance between two points.\n",
    "        Args:\n",
    "            x1 (int): X coordinate of the first city.\n",
    "            y1 (int): Y coordinate of the first city.\n",
    "            x2 (int): X coordinate of the second city.\n",
    "            y2 (int): X coordinate of the second city.\n",
    "        Returns:\n",
    "            [float]: Distance.\n",
    "        \"\"\"\n",
    "        return np.sqrt((x1-x2)**2 + abs(y1-y2)**2)\n",
    "\n",
    "\n",
    "    def total_distance(self, solution = -1):\n",
    "        \"\"\"The total distance of a given solution\n",
    "        Args:\n",
    "            solution (int, optional): A solution. Not necessary as it will take the solution in the class. Defaults to -1.\n",
    "        Returns:\n",
    "            float: Total distance.\n",
    "        \"\"\"\n",
    "        if solution == -1:\n",
    "            solution = self.solution\n",
    "        distance = 0\n",
    "        for i in range(len(solution)-1):\n",
    "            distance += self.dist_matrix[int(solution[i])-1][int(solution[i+1])-1]\n",
    "        # make it a circle\n",
    "        distance += self.dist_matrix[int(solution[i+1])-1][int(solution[0])-1]\n",
    "        return distance\n",
    "\n",
    "\n",
    "    def plot_solution(self, color_graph):\n",
    "        \"\"\"Plots the path of the salesmen\n",
    "        \"\"\"\n",
    "        self.df.plot.scatter(\"x\", \"y\",color=color_graph )\n",
    "        for i in range(len(self.solution)-1):\n",
    "            fro = self.df.loc[self.solution[i]]\n",
    "            to = self.df.loc[self.solution[i+1]]\n",
    "            plt.arrow(fro[\"x\"], fro[\"y\"], to[\"x\"]-fro[\"x\"], to[\"y\"]-fro[\"y\"])\n",
    "        fro = self.df.loc[self.solution[len(self.solution)-1]]\n",
    "        to = self.df.loc[self.solution[0]]\n",
    "        plt.arrow(fro[\"x\"], fro[\"y\"], to[\"x\"]-fro[\"x\"], to[\"y\"]-fro[\"y\"])\n",
    "\n",
    "\n",
    "    def build_matrix(self):\n",
    "        \"\"\"Builds a distance matrix of all the cities in the dataframe.\n",
    "        Returns:\n",
    "            [numpy matrix]: A matrix that contains the distance between two cities\n",
    "        \"\"\"\n",
    "        matrix = np.zeros((len(self.df),len(self.df)))\n",
    "        for row in range(len(self.df)):\n",
    "            fro = self.df.loc[row]\n",
    "            for column in range(len(self.df)):\n",
    "                if row != column:\n",
    "                    to = self.df.loc[column]\n",
    "                    matrix[row][column] = self.get_distance(fro[\"x\"], fro[\"y\"], to[\"x\"], to[\"y\"])\n",
    "        \n",
    "        return matrix"
   ]
  },
  {
   "cell_type": "code",
   "execution_count": 266,
   "metadata": {},
   "outputs": [],
   "source": [
    "import pandas as pd\n",
    "df = pd.DataFrame(np.random.uniform(low=0,high=1,size=(30, 2)), columns=list('xy'))\n",
    "df1 = df.iloc[:int(df.shape[0]/3)]\n",
    "df2 = df.iloc[int(df.shape[0]/3):int(df.shape[0]*2/3)]\n",
    "index=df2.reset_index().index.values\n",
    "df2=df2.set_index(index)\n",
    "df3 = df.iloc[int(df.shape[0]*2/3):]\n",
    "index=df3.reset_index().index.values\n",
    "df3=df3.set_index(index)"
   ]
  },
  {
   "cell_type": "code",
   "execution_count": 267,
   "metadata": {},
   "outputs": [
    {
     "name": "stdout",
     "output_type": "stream",
     "text": [
      "Ruta más corta:3.223268731049106\n"
     ]
    }
   ],
   "source": [
    "sim1 = AnnealTVS(df1, K=200,stopK=.001, alpha = 0.99, all_distances=True,markov_length = 300)\n",
    "ans1 = sim1.run_sim()"
   ]
  },
  {
   "cell_type": "code",
   "execution_count": 268,
   "metadata": {},
   "outputs": [
    {
     "name": "stdout",
     "output_type": "stream",
     "text": [
      "Ruta más corta:2.6597894863032794\n"
     ]
    }
   ],
   "source": [
    "sim2 = AnnealTVS(df2, K=200, stopK=.001, alpha = 0.99, all_distances=True,markov_length = 200)\n",
    "ans2 = sim2.run_sim()"
   ]
  },
  {
   "cell_type": "code",
   "execution_count": 269,
   "metadata": {},
   "outputs": [
    {
     "name": "stdout",
     "output_type": "stream",
     "text": [
      "Ruta más corta:2.5924540377175425\n"
     ]
    }
   ],
   "source": [
    "sim3 = AnnealTVS(df3, K=200, stopK=.001, alpha = 0.99, all_distances=True,markov_length = 100)\n",
    "ans3 = sim2.run_sim()"
   ]
  },
  {
   "cell_type": "code",
   "execution_count": 270,
   "metadata": {},
   "outputs": [
    {
     "data": {
      "image/png": "[encoded data removed]",
      "text/plain": [
       "<Figure size 432x288 with 1 Axes>"
      ]
     },
     "metadata": {
      "needs_background": "light"
     },
     "output_type": "display_data"
    }
   ],
   "source": [
    "sim1.plot_solution('red')"
   ]
  },
  {
   "cell_type": "code",
   "execution_count": 271,
   "metadata": {},
   "outputs": [
    {
     "data": {
      "image/png": "[encoded data removed]",
      "text/plain": [
       "<Figure size 432x288 with 1 Axes>"
      ]
     },
     "metadata": {
      "needs_background": "light"
     },
     "output_type": "display_data"
    }
   ],
   "source": [
    "sim2.plot_solution('blue')"
   ]
  },
  {
   "cell_type": "code",
   "execution_count": 272,
   "metadata": {
    "scrolled": true
   },
   "outputs": [
    {
     "data": {
      "image/png": "[encoded data removed]",
      "text/plain": [
       "<Figure size 432x288 with 1 Axes>"
      ]
     },
     "metadata": {
      "needs_background": "light"
     },
     "output_type": "display_data"
    }
   ],
   "source": [
    "sim3.plot_solution('green')"
   ]
  },
  {
   "cell_type": "code",
   "execution_count": null,
   "metadata": {},
   "outputs": [],
   "source": []
  },
  {
   "cell_type": "code",
   "execution_count": null,
   "metadata": {},
   "outputs": [],
   "source": []
  },
  {
   "cell_type": "code",
   "execution_count": null,
   "metadata": {},
   "outputs": [],
   "source": []
  },
  {
   "cell_type": "code",
   "execution_count": null,
   "metadata": {},
   "outputs": [],
   "source": []
  }
 ],
 "metadata": {
  "kernelspec": {
   "display_name": "Python 3",
   "language": "python",
   "name": "python3"
  },
  "vscode": {
   "interpreter": {
    "hash": "ac4b8214edcc1a4fe6a2d268f276e191f7b93cf26c1c9ae6bfdf28f8539b9210"
   }
  }
 },
 "nbformat": 4,
 "nbformat_minor": 2
}
