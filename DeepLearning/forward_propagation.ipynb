{
 "cells": [
  {
   "cell_type": "code",
   "execution_count": 55,
   "metadata": {},
   "outputs": [],
   "source": [
    "import numpy as np\n",
    "from scipy import optimize\n",
    "\n",
    "class NeuralNetworkClass():\n",
    "    def __init__(self):\n",
    "        #Initialize weigths:\n",
    "        self.W1 = np.array([[-2,4],[3,-1]])\n",
    "        self.W2 = np.array([[1,-1],[-1,1]])\n",
    "    def step(self,x):\n",
    "        return np.heaviside(x, 1)\n",
    "    def forward_propagation(self, X):\n",
    "        self.z2 = np.dot(X, self.W1)\n",
    "        self.a2 = self.step(self.z2)\n",
    "        self.z3 = np.dot(self.a2, self.W2)\n",
    "        self.yHat = self.step(self.z3)\n",
    "        return self.yHat\n",
    "\n"
   ]
  },
  {
   "cell_type": "code",
   "execution_count": 56,
   "metadata": {},
   "outputs": [
    {
     "name": "stdout",
     "output_type": "stream",
     "text": [
      "Salida 1:\n",
      "[[1. 0.]\n",
      " [1. 0.]]\n",
      "Salida 2:\n",
      "[[1. 1.]\n",
      " [1. 1.]]\n"
     ]
    }
   ],
   "source": [
    "X=np.array([[0,1],[0,1]])\n",
    "NN= NeuralNetworkClass()\n",
    "yhat = NN.forward_propagation(X)\n",
    "print(\"Salida 1:\")\n",
    "print(yhat)\n",
    "X=np.array([[0,0],[1,1]])\n",
    "yhat = NN.forward_propagation(X)\n",
    "print(\"Salida 2:\")\n",
    "print(yhat)"
   ]
  },
  {
   "cell_type": "code",
   "execution_count": null,
   "metadata": {},
   "outputs": [],
   "source": []
  },
  {
   "cell_type": "code",
   "execution_count": null,
   "metadata": {},
   "outputs": [],
   "source": []
  }
 ],
 "metadata": {
  "kernelspec": {
   "display_name": "Python 3.8.8 ('base')",
   "language": "python",
   "name": "python3"
  },
  "language_info": {
   "codemirror_mode": {
    "name": "ipython",
    "version": 3
   },
   "file_extension": ".py",
   "mimetype": "text/x-python",
   "name": "python",
   "nbconvert_exporter": "python",
   "pygments_lexer": "ipython3",
   "version": "3.8.8"
  },
  "orig_nbformat": 4,
  "vscode": {
   "interpreter": {
    "hash": "871e517d4d32302a08283964b8db43a4ff130a1e4460401b2bf822218696f1c1"
   }
  }
 },
 "nbformat": 4,
 "nbformat_minor": 2
}
