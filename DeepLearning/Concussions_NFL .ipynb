{
 "cells": [
  {
   "cell_type": "code",
   "execution_count": 37,
   "id": "56053f11",
   "metadata": {},
   "outputs": [],
   "source": [
    "import os\n",
    "import pandas as pd\n",
    "import numpy as np\n",
    "import networkx as nx\n",
    "import matplotlib.pyplot as plt\n",
    "import tensorflow as tf\n",
    "from tensorflow import keras\n",
    "from tensorflow.keras import layers\n",
    "\n",
    "data = pd.read_csv(\"data/concussion.csv\") #Import the data "
   ]
  },
  {
   "cell_type": "code",
   "execution_count": 38,
   "id": "2ee2a054",
   "metadata": {},
   "outputs": [
    {
     "name": "stdout",
     "output_type": "stream",
     "text": [
      "                                                  ID            Player  \\\n",
      "0  Aldrick Robinson - Washington Redskins vs. Tam...  Aldrick Robinson   \n",
      "1  D.J. Fluker - Tennessee Titans vs. San Diego C...       D.J. Fluker   \n",
      "2  Marquise Goodwin - Houston Texans vs. Buffalo ...  Marquise Goodwin   \n",
      "3  Bryan Stork - New England Patriots vs. Buffalo...       Bryan Stork   \n",
      "4  Lorenzo Booker - Chicago Bears vs. Indianapoli...    Lorenzo Booker   \n",
      "\n",
      "                   Team                                               Game  \\\n",
      "0   Washington Redskins  Washington Redskins vs. Tampa Bay Buccaneers (...   \n",
      "1    San Diego Chargers  Tennessee Titans vs. San Diego Chargers (22/9/...   \n",
      "2         Buffalo Bills       Houston Texans vs. Buffalo Bills (28/9/2014)   \n",
      "3  New England Patriots  New England Patriots vs. Buffalo Bills (12/10/...   \n",
      "4         Chicago Bears    Chicago Bears vs. Indianapolis Colts (9/9/2012)   \n",
      "\n",
      "         Date         Opposing Team          Position Pre-Season Injury?  \\\n",
      "0  30/09/2012  Tampa Bay Buccaneers     Wide Receiver                 No   \n",
      "1  22/09/2013      Tennessee Titans  Offensive Tackle                 No   \n",
      "2  28/09/2014        Houston Texans     Wide Receiver                 No   \n",
      "3  12/10/2014         Buffalo Bills            Center                 No   \n",
      "4   9/09/2012    Indianapolis Colts      Running Back                Yes   \n",
      "\n",
      "  Winning Team?  Week of Injury     Season  Weeks Injured  Games Missed  \\\n",
      "0           Yes               4  2012/2013              1           1.0   \n",
      "1            No               3  2013/2014              1           1.0   \n",
      "2            No               4  2014/2015              1           1.0   \n",
      "3           Yes               6  2014/2015              1           1.0   \n",
      "4           Yes               1  2012/2013              0           NaN   \n",
      "\n",
      "  Unknown Injury? Reported Injury Type  Total Snaps  \\\n",
      "0              No                 Head            0   \n",
      "1              No           Concussion            0   \n",
      "2              No           Concussion            0   \n",
      "3              No                 Head            0   \n",
      "4              No                 Head            0   \n",
      "\n",
      "       Play Time After Injury Average Playtime Before Injury  \n",
      "0                    14 downs                    37.00 downs  \n",
      "1                    78 downs                    73.50 downs  \n",
      "2                    25 downs                    17.50 downs  \n",
      "3                    82 downs                    41.50 downs  \n",
      "4  Did not return from injury                            NaN  \n"
     ]
    }
   ],
   "source": [
    "print(data.head(5)) "
   ]
  },
  {
   "cell_type": "code",
   "execution_count": 39,
   "id": "318151e5",
   "metadata": {},
   "outputs": [
    {
     "name": "stdout",
     "output_type": "stream",
     "text": [
      "<class 'pandas.core.frame.DataFrame'>\n",
      "RangeIndex: 392 entries, 0 to 391\n",
      "Data columns (total 18 columns):\n",
      " #   Column                          Non-Null Count  Dtype  \n",
      "---  ------                          --------------  -----  \n",
      " 0   ID                              392 non-null    object \n",
      " 1   Player                          392 non-null    object \n",
      " 2   Team                            392 non-null    object \n",
      " 3   Game                            392 non-null    object \n",
      " 4   Date                            392 non-null    object \n",
      " 5   Opposing Team                   392 non-null    object \n",
      " 6   Position                        392 non-null    object \n",
      " 7   Pre-Season Injury?              392 non-null    object \n",
      " 8   Winning Team?                   392 non-null    object \n",
      " 9   Week of Injury                  392 non-null    int64  \n",
      " 10  Season                          392 non-null    object \n",
      " 11  Weeks Injured                   392 non-null    int64  \n",
      " 12  Games Missed                    361 non-null    float64\n",
      " 13  Unknown Injury?                 392 non-null    object \n",
      " 14  Reported Injury Type            389 non-null    object \n",
      " 15  Total Snaps                     392 non-null    int64  \n",
      " 16  Play Time After Injury          349 non-null    object \n",
      " 17  Average Playtime Before Injury  341 non-null    object \n",
      "dtypes: float64(1), int64(3), object(14)\n",
      "memory usage: 55.2+ KB\n",
      "None\n"
     ]
    }
   ],
   "source": [
    "print(data.info())"
   ]
  },
  {
   "cell_type": "code",
   "execution_count": 40,
   "id": "19d4ae5b",
   "metadata": {},
   "outputs": [
    {
     "name": "stdout",
     "output_type": "stream",
     "text": [
      "       Week of Injury  Weeks Injured  Games Missed  Total Snaps\n",
      "count      392.000000     392.000000    361.000000   392.000000\n",
      "mean         8.548469       0.920918      0.925208    32.038265\n",
      "std          5.004111       0.270211      1.742429    22.228552\n",
      "min          1.000000       0.000000      0.000000     0.000000\n",
      "25%          4.000000       1.000000      0.000000    14.000000\n",
      "50%          9.000000       1.000000      0.000000    29.000000\n",
      "75%         13.000000       1.000000      1.000000    48.000000\n",
      "max         19.000000       1.000000     14.000000    93.000000\n"
     ]
    }
   ],
   "source": [
    "print(data.describe())"
   ]
  },
  {
   "cell_type": "code",
   "execution_count": 41,
   "id": "df3d0c93",
   "metadata": {},
   "outputs": [
    {
     "name": "stdout",
     "output_type": "stream",
     "text": [
      "[1 0]\n"
     ]
    }
   ],
   "source": [
    "print(data['Weeks Injured'].unique()) #Its a binary problem"
   ]
  },
  {
   "cell_type": "code",
   "execution_count": 42,
   "id": "15a64b72",
   "metadata": {},
   "outputs": [
    {
     "name": "stdout",
     "output_type": "stream",
     "text": [
      "['Wide Receiver' 'Offensive Tackle' 'Center' 'Running Back' 'Guard'\n",
      " 'Comerback' 'Linebacker' 'Tight End' 'Defensive End' 'Safety'\n",
      " 'Long Snapper' 'Defensive Tackle' 'Quarterback' 'Full Back']\n"
     ]
    }
   ],
   "source": [
    "print(data['Position'].unique()) #Check if we can use the position coloumn "
   ]
  },
  {
   "cell_type": "code",
   "execution_count": 43,
   "id": "b7236c7e",
   "metadata": {},
   "outputs": [
    {
     "name": "stdout",
     "output_type": "stream",
     "text": [
      "['Wide Receiver' 'Offensive Tackle' 'Center' 'Running Back' 'Guard'\n",
      " 'Comerback' 'Linebacker' 'Tight End' 'Defensive End' 'Safety'\n",
      " 'Long Snapper' 'Defensive Tackle' 'Quarterback' 'Full Back']\n"
     ]
    }
   ],
   "source": [
    "positions = data['Position'].unique()  \n",
    "print(positions)"
   ]
  },
  {
   "cell_type": "code",
   "execution_count": 44,
   "id": "f702af37",
   "metadata": {},
   "outputs": [
    {
     "name": "stdout",
     "output_type": "stream",
     "text": [
      "For position Wide Receiver: \n",
      "1    50\n",
      "0     6\n",
      "Name: Weeks Injured, dtype: int64\n",
      "For position Offensive Tackle: \n",
      "1    19\n",
      "0     3\n",
      "Name: Weeks Injured, dtype: int64\n",
      "For position Center: \n",
      "1    7\n",
      "Name: Weeks Injured, dtype: int64\n",
      "For position Running Back: \n",
      "1    36\n",
      "0     3\n",
      "Name: Weeks Injured, dtype: int64\n",
      "For position Guard: \n",
      "1    25\n",
      "0     1\n",
      "Name: Weeks Injured, dtype: int64\n",
      "For position Comerback: \n",
      "1    60\n",
      "0     4\n",
      "Name: Weeks Injured, dtype: int64\n",
      "For position Linebacker: \n",
      "1    32\n",
      "0     5\n",
      "Name: Weeks Injured, dtype: int64\n",
      "For position Tight End: \n",
      "1    38\n",
      "0     1\n",
      "Name: Weeks Injured, dtype: int64\n",
      "For position Defensive End: \n",
      "1    18\n",
      "0     2\n",
      "Name: Weeks Injured, dtype: int64\n",
      "For position Safety: \n",
      "1    45\n",
      "0     6\n",
      "Name: Weeks Injured, dtype: int64\n",
      "For position Long Snapper: \n",
      "1    1\n",
      "Name: Weeks Injured, dtype: int64\n",
      "For position Defensive Tackle: \n",
      "1    13\n",
      "Name: Weeks Injured, dtype: int64\n",
      "For position Quarterback: \n",
      "1    14\n",
      "Name: Weeks Injured, dtype: int64\n",
      "For position Full Back: \n",
      "1    3\n",
      "Name: Weeks Injured, dtype: int64\n"
     ]
    }
   ],
   "source": [
    "positions = ['Wide Receiver','Offensive Tackle','Center','Running Back','Guard',\n",
    " 'Comerback','Linebacker','Tight End','Defensive End','Safety',\n",
    " 'Long Snapper','Defensive Tackle','Quarterback','Full Back']\n",
    "\n",
    "#Print the distribution between each position and the output (weeks inured)\n",
    "def get_distribution_injuries(position, data):\n",
    "    subdata = data[data['Position'] == position]\n",
    "    print(\"For position {}: \".format(position))\n",
    "    print(subdata['Weeks Injured'].value_counts())\n",
    "\n",
    "for pos in positions:\n",
    "    get_distribution_injuries(pos, data)"
   ]
  },
  {
   "cell_type": "code",
   "execution_count": 45,
   "id": "8d768e5c",
   "metadata": {},
   "outputs": [
    {
     "data": {
      "text/plain": [
       "'\\nPosiciones mas peligrosas:\\nQuarterback\\nFull Back\\nDefensive Tackle\\nLong Snapper\\nTight End\\nGuard\\nCenter\\n'"
      ]
     },
     "execution_count": 45,
     "metadata": {},
     "output_type": "execute_result"
    }
   ],
   "source": [
    "'''\n",
    "Posiciones mas peligrosas:\n",
    "Quarterback\n",
    "Full Back\n",
    "Defensive Tackle\n",
    "Long Snapper\n",
    "Tight End\n",
    "Guard\n",
    "Center\n",
    "'''"
   ]
  },
  {
   "cell_type": "code",
   "execution_count": 46,
   "id": "569e1b76",
   "metadata": {},
   "outputs": [],
   "source": [
    "#The most dangerous positions (from our data) are getting a 1, else 0\n",
    "datos = data['Position'].replace({'Comerback': 0, 'Wide Receiver': 0, 'Linebacker':0, 'Tight End':1, 'Full Back': 1,\n",
    "                                           'Center': 1, 'Offensive Tackle':0, 'Running Back':0, 'Guard':1, 'Defensive End':0, \n",
    "                                           'Safety':0, 'Long Snapper':1, 'Defensive Tackle': 1, 'Quarterback':1, 'Full Back':1 })"
   ]
  },
  {
   "cell_type": "code",
   "execution_count": 47,
   "id": "5a4371d5",
   "metadata": {},
   "outputs": [],
   "source": [
    "data['Position'] = datos"
   ]
  },
  {
   "cell_type": "code",
   "execution_count": 48,
   "id": "11666fbb",
   "metadata": {},
   "outputs": [],
   "source": [
    "subdata_zero = data[data['Position'] == 0] \n",
    "subdata_uno = data[data['Position'] == 1]"
   ]
  },
  {
   "cell_type": "code",
   "execution_count": 49,
   "id": "46d928de",
   "metadata": {},
   "outputs": [
    {
     "name": "stdout",
     "output_type": "stream",
     "text": [
      "1    260\n",
      "0     29\n",
      "Name: Weeks Injured, dtype: int64\n"
     ]
    }
   ],
   "source": [
    "print(subdata_zero['Weeks Injured'].value_counts()) #Print the final distribution of all \"Non-dangerous\" positions"
   ]
  },
  {
   "cell_type": "code",
   "execution_count": 50,
   "id": "72704661",
   "metadata": {},
   "outputs": [
    {
     "name": "stdout",
     "output_type": "stream",
     "text": [
      "1    101\n",
      "0      2\n",
      "Name: Weeks Injured, dtype: int64\n"
     ]
    }
   ],
   "source": [
    "print(subdata_uno['Weeks Injured'].value_counts()) #Print the distribution of the dangerous positions"
   ]
  },
  {
   "cell_type": "code",
   "execution_count": 51,
   "id": "881a1b2c",
   "metadata": {},
   "outputs": [],
   "source": [
    "subdata_yes = data[data['Pre-Season Injury?'] == 'Yes'] #Check if we can use the pre-season injury coloumn \n",
    "subdata_no = data[data['Pre-Season Injury?'] == 'No']"
   ]
  },
  {
   "cell_type": "code",
   "execution_count": 52,
   "id": "9a199caf",
   "metadata": {},
   "outputs": [
    {
     "name": "stdout",
     "output_type": "stream",
     "text": [
      "0    26\n",
      "Name: Weeks Injured, dtype: int64\n"
     ]
    }
   ],
   "source": [
    "print(subdata_yes['Weeks Injured'].value_counts()) #Only 26 had a pre season injury and non had another one"
   ]
  },
  {
   "cell_type": "code",
   "execution_count": 53,
   "id": "67be83e7",
   "metadata": {},
   "outputs": [
    {
     "name": "stdout",
     "output_type": "stream",
     "text": [
      "1    361\n",
      "0      5\n",
      "Name: Weeks Injured, dtype: int64\n"
     ]
    }
   ],
   "source": [
    "print(subdata_no['Weeks Injured'].value_counts()) "
   ]
  },
  {
   "cell_type": "code",
   "execution_count": 54,
   "id": "8531fd7a",
   "metadata": {},
   "outputs": [],
   "source": [
    "datos = data['Pre-Season Injury?'].replace({'Yes':1, 'No':0})\n",
    "data['Pre-Season Injury?'] = datos"
   ]
  },
  {
   "cell_type": "code",
   "execution_count": 55,
   "id": "c82cb266",
   "metadata": {},
   "outputs": [],
   "source": [
    "datos = data['Unknown Injury?'].replace({'Yes':1, 'No':0})\n",
    "data['Unknown Injury?'] = datos"
   ]
  },
  {
   "cell_type": "code",
   "execution_count": 56,
   "id": "8a9e5758",
   "metadata": {},
   "outputs": [],
   "source": [
    "#'Position' 'Pre-Season Injury?', 'Games Missed','Total Snaps', 'Unknown Injury?'\n",
    "data_X = pd.DataFrame()\n",
    "data_X['Position'] = data['Position'] #Coloumns for the input data\n",
    "data_X['Pre-Season Injury?'] = data['Pre-Season Injury?']\n",
    "data_X['Total Snaps'] = data['Total Snaps']\n",
    "data_X['Unknown Injury?'] = data['Unknown Injury?']"
   ]
  },
  {
   "cell_type": "code",
   "execution_count": 57,
   "id": "5aa79dc3",
   "metadata": {},
   "outputs": [],
   "source": [
    "X = data_X.values.tolist()"
   ]
  },
  {
   "cell_type": "code",
   "execution_count": 58,
   "id": "a966ce5c",
   "metadata": {},
   "outputs": [],
   "source": [
    "y = data['Weeks Injured'].tolist() #Output data"
   ]
  },
  {
   "cell_type": "code",
   "execution_count": 59,
   "id": "97fccb05",
   "metadata": {},
   "outputs": [],
   "source": [
    "from sklearn.utils import shuffle\n",
    "X, y = shuffle(X, y)"
   ]
  },
  {
   "cell_type": "code",
   "execution_count": 60,
   "id": "8f67517f",
   "metadata": {},
   "outputs": [],
   "source": [
    "len_train = int(len(y) * 0.85)\n",
    "train_X = X[:len_train]\n",
    "train_y = y[:len_train]\n",
    "test_X = X[len_train:]\n",
    "test_y = y[len_train:]"
   ]
  },
  {
   "cell_type": "code",
   "execution_count": 61,
   "id": "6aa84668",
   "metadata": {},
   "outputs": [
    {
     "data": {
      "text/plain": [
       "[Text(200.88000000000002, 181.2, 'X[1] <= 0.5\\ngini = 0.149\\nsamples = 333\\nvalue = [27, 306]'),\n",
       " Text(133.92000000000002, 108.72, 'X[3] <= 0.5\\ngini = 0.032\\nsamples = 311\\nvalue = [5, 306]'),\n",
       " Text(66.96000000000001, 36.23999999999998, 'gini = 0.0\\nsamples = 306\\nvalue = [0, 306]'),\n",
       " Text(200.88000000000002, 36.23999999999998, 'gini = 0.0\\nsamples = 5\\nvalue = [5, 0]'),\n",
       " Text(267.84000000000003, 108.72, 'gini = 0.0\\nsamples = 22\\nvalue = [22, 0]')]"
      ]
     },
     "execution_count": 61,
     "metadata": {},
     "output_type": "execute_result"
    },
    {
     "data": {
      "image/png": "[encoded data removed]",
      "text/plain": [
       "<Figure size 432x288 with 1 Axes>"
      ]
     },
     "metadata": {
      "needs_background": "light"
     },
     "output_type": "display_data"
    }
   ],
   "source": [
    "from sklearn import tree #first, we can use a tree\n",
    "clf = tree.DecisionTreeClassifier()\n",
    "clf = clf.fit(train_X, train_y)\n",
    "tree.plot_tree(clf)"
   ]
  },
  {
   "cell_type": "code",
   "execution_count": 62,
   "id": "aabe7ec8",
   "metadata": {},
   "outputs": [
    {
     "data": {
      "text/plain": [
       "1.0"
      ]
     },
     "execution_count": 62,
     "metadata": {},
     "output_type": "execute_result"
    }
   ],
   "source": [
    "clf.score(test_X, test_y) #it's \"easy\" for the tree to find a pattern "
   ]
  },
  {
   "cell_type": "code",
   "execution_count": 63,
   "id": "f9e8e7ec",
   "metadata": {},
   "outputs": [],
   "source": [
    "import tensorflow.keras as keras #Now with a simple NN"
   ]
  },
  {
   "cell_type": "code",
   "execution_count": 137,
   "id": "db4f6f55",
   "metadata": {},
   "outputs": [],
   "source": [
    "model = keras.Sequential([\n",
    "    keras.layers.Input(shape=4),\n",
    "    keras.layers.Dense(2, activation='relu'),\n",
    "    keras.layers.Dense(1, activation='sigmoid')\n",
    "])\n",
    "# Create an early stopping callback to stop training once the model performance stops improving on a hold out validation dataset.\n",
    "early_stopping = keras.callbacks.EarlyStopping(\n",
    "    monitor=\"val_accuracy\", patience=50, restore_best_weights=True\n",
    ")\n",
    "model.compile(optimizer='adam',\n",
    "              loss='BinaryCrossentropy' ,\n",
    "              metrics=['accuracy'])\n"
   ]
  },
  {
   "cell_type": "code",
   "execution_count": 138,
   "id": "d7b93f30",
   "metadata": {},
   "outputs": [
    {
     "name": "stdout",
     "output_type": "stream",
     "text": [
      "Epoch 1/300\n",
      "11/11 [==============================] - 1s 19ms/step - loss: 2.1234 - accuracy: 0.0871 - val_loss: 2.1810 - val_accuracy: 0.0678\n",
      "Epoch 2/300\n",
      "11/11 [==============================] - 0s 6ms/step - loss: 1.6586 - accuracy: 0.0871 - val_loss: 1.6208 - val_accuracy: 0.1017\n",
      "Epoch 3/300\n",
      "11/11 [==============================] - 0s 6ms/step - loss: 1.2347 - accuracy: 0.1051 - val_loss: 1.1324 - val_accuracy: 0.1356\n",
      "Epoch 4/300\n",
      "11/11 [==============================] - 0s 6ms/step - loss: 0.8866 - accuracy: 0.1982 - val_loss: 0.7604 - val_accuracy: 0.2712\n",
      "Epoch 5/300\n",
      "11/11 [==============================] - 0s 6ms/step - loss: 0.6460 - accuracy: 0.7237 - val_loss: 0.5322 - val_accuracy: 0.9322\n",
      "Epoch 6/300\n",
      "11/11 [==============================] - 0s 6ms/step - loss: 0.5085 - accuracy: 0.9219 - val_loss: 0.4106 - val_accuracy: 0.9322\n",
      "Epoch 7/300\n",
      "11/11 [==============================] - 0s 6ms/step - loss: 0.4328 - accuracy: 0.9219 - val_loss: 0.3461 - val_accuracy: 0.9322\n",
      "Epoch 8/300\n",
      "11/11 [==============================] - 0s 7ms/step - loss: 0.3887 - accuracy: 0.9219 - val_loss: 0.3108 - val_accuracy: 0.9322\n",
      "Epoch 9/300\n",
      "11/11 [==============================] - 0s 6ms/step - loss: 0.3658 - accuracy: 0.9219 - val_loss: 0.2863 - val_accuracy: 0.9322\n",
      "Epoch 10/300\n",
      "11/11 [==============================] - 0s 5ms/step - loss: 0.3492 - accuracy: 0.9219 - val_loss: 0.2695 - val_accuracy: 0.9322\n",
      "Epoch 11/300\n",
      "11/11 [==============================] - 0s 5ms/step - loss: 0.3376 - accuracy: 0.9219 - val_loss: 0.2572 - val_accuracy: 0.9322\n",
      "Epoch 12/300\n",
      "11/11 [==============================] - 0s 7ms/step - loss: 0.3296 - accuracy: 0.9219 - val_loss: 0.2475 - val_accuracy: 0.9322\n",
      "Epoch 13/300\n",
      "11/11 [==============================] - 0s 7ms/step - loss: 0.3236 - accuracy: 0.9219 - val_loss: 0.2404 - val_accuracy: 0.9322\n",
      "Epoch 14/300\n",
      "11/11 [==============================] - 0s 6ms/step - loss: 0.3182 - accuracy: 0.9219 - val_loss: 0.2350 - val_accuracy: 0.9322\n",
      "Epoch 15/300\n",
      "11/11 [==============================] - 0s 5ms/step - loss: 0.3149 - accuracy: 0.9219 - val_loss: 0.2293 - val_accuracy: 0.9322\n",
      "Epoch 16/300\n",
      "11/11 [==============================] - 0s 6ms/step - loss: 0.3113 - accuracy: 0.9219 - val_loss: 0.2248 - val_accuracy: 0.9322\n",
      "Epoch 17/300\n",
      "11/11 [==============================] - 0s 6ms/step - loss: 0.3082 - accuracy: 0.9219 - val_loss: 0.2215 - val_accuracy: 0.9322\n",
      "Epoch 18/300\n",
      "11/11 [==============================] - 0s 7ms/step - loss: 0.3063 - accuracy: 0.9219 - val_loss: 0.2179 - val_accuracy: 0.9322\n",
      "Epoch 19/300\n",
      "11/11 [==============================] - 0s 8ms/step - loss: 0.3045 - accuracy: 0.9219 - val_loss: 0.2149 - val_accuracy: 0.9322\n",
      "Epoch 20/300\n",
      "11/11 [==============================] - 0s 7ms/step - loss: 0.3026 - accuracy: 0.9219 - val_loss: 0.2126 - val_accuracy: 0.9322\n",
      "Epoch 21/300\n",
      "11/11 [==============================] - 0s 7ms/step - loss: 0.3012 - accuracy: 0.9219 - val_loss: 0.2104 - val_accuracy: 0.9322\n",
      "Epoch 22/300\n",
      "11/11 [==============================] - 0s 6ms/step - loss: 0.2999 - accuracy: 0.9219 - val_loss: 0.2086 - val_accuracy: 0.9322\n",
      "Epoch 23/300\n",
      "11/11 [==============================] - 0s 6ms/step - loss: 0.2989 - accuracy: 0.9219 - val_loss: 0.2070 - val_accuracy: 0.9322\n",
      "Epoch 24/300\n",
      "11/11 [==============================] - 0s 7ms/step - loss: 0.2980 - accuracy: 0.9219 - val_loss: 0.2054 - val_accuracy: 0.9322\n",
      "Epoch 25/300\n",
      "11/11 [==============================] - 0s 6ms/step - loss: 0.2971 - accuracy: 0.9219 - val_loss: 0.2044 - val_accuracy: 0.9322\n",
      "Epoch 26/300\n",
      "11/11 [==============================] - 0s 6ms/step - loss: 0.2964 - accuracy: 0.9219 - val_loss: 0.2037 - val_accuracy: 0.9322\n",
      "Epoch 27/300\n",
      "11/11 [==============================] - 0s 6ms/step - loss: 0.2958 - accuracy: 0.9219 - val_loss: 0.2028 - val_accuracy: 0.9322\n",
      "Epoch 28/300\n",
      "11/11 [==============================] - 0s 6ms/step - loss: 0.2950 - accuracy: 0.9219 - val_loss: 0.2018 - val_accuracy: 0.9322\n",
      "Epoch 29/300\n",
      "11/11 [==============================] - 0s 6ms/step - loss: 0.2944 - accuracy: 0.9219 - val_loss: 0.2003 - val_accuracy: 0.9322\n",
      "Epoch 30/300\n",
      "11/11 [==============================] - 0s 6ms/step - loss: 0.2936 - accuracy: 0.9219 - val_loss: 0.1995 - val_accuracy: 0.9322\n",
      "Epoch 31/300\n",
      "11/11 [==============================] - 0s 7ms/step - loss: 0.2931 - accuracy: 0.9219 - val_loss: 0.1984 - val_accuracy: 0.9322\n",
      "Epoch 32/300\n",
      "11/11 [==============================] - 0s 6ms/step - loss: 0.2924 - accuracy: 0.9219 - val_loss: 0.1983 - val_accuracy: 0.9322\n",
      "Epoch 33/300\n",
      "11/11 [==============================] - 0s 6ms/step - loss: 0.2919 - accuracy: 0.9219 - val_loss: 0.1976 - val_accuracy: 0.9322\n",
      "Epoch 34/300\n",
      "11/11 [==============================] - 0s 6ms/step - loss: 0.2914 - accuracy: 0.9219 - val_loss: 0.1969 - val_accuracy: 0.9322\n",
      "Epoch 35/300\n",
      "11/11 [==============================] - 0s 7ms/step - loss: 0.2908 - accuracy: 0.9219 - val_loss: 0.1964 - val_accuracy: 0.9322\n",
      "Epoch 36/300\n",
      "11/11 [==============================] - 0s 6ms/step - loss: 0.2902 - accuracy: 0.9219 - val_loss: 0.1957 - val_accuracy: 0.9322\n",
      "Epoch 37/300\n",
      "11/11 [==============================] - 0s 6ms/step - loss: 0.2899 - accuracy: 0.9219 - val_loss: 0.1946 - val_accuracy: 0.9322\n",
      "Epoch 38/300\n",
      "11/11 [==============================] - 0s 6ms/step - loss: 0.2891 - accuracy: 0.9219 - val_loss: 0.1944 - val_accuracy: 0.9322\n",
      "Epoch 39/300\n",
      "11/11 [==============================] - 0s 5ms/step - loss: 0.2886 - accuracy: 0.9219 - val_loss: 0.1937 - val_accuracy: 0.9322\n",
      "Epoch 40/300\n",
      "11/11 [==============================] - 0s 5ms/step - loss: 0.2881 - accuracy: 0.9219 - val_loss: 0.1934 - val_accuracy: 0.9322\n",
      "Epoch 41/300\n",
      "11/11 [==============================] - 0s 5ms/step - loss: 0.2875 - accuracy: 0.9219 - val_loss: 0.1928 - val_accuracy: 0.9322\n",
      "Epoch 42/300\n",
      "11/11 [==============================] - 0s 6ms/step - loss: 0.2870 - accuracy: 0.9219 - val_loss: 0.1921 - val_accuracy: 0.9322\n",
      "Epoch 43/300\n",
      "11/11 [==============================] - 0s 6ms/step - loss: 0.2864 - accuracy: 0.9219 - val_loss: 0.1914 - val_accuracy: 0.9322\n",
      "Epoch 44/300\n",
      "11/11 [==============================] - 0s 7ms/step - loss: 0.2860 - accuracy: 0.9219 - val_loss: 0.1909 - val_accuracy: 0.9322\n",
      "Epoch 45/300\n",
      "11/11 [==============================] - 0s 5ms/step - loss: 0.2854 - accuracy: 0.9219 - val_loss: 0.1905 - val_accuracy: 0.9322\n",
      "Epoch 46/300\n",
      "11/11 [==============================] - 0s 5ms/step - loss: 0.2850 - accuracy: 0.9219 - val_loss: 0.1901 - val_accuracy: 0.9322\n",
      "Epoch 47/300\n",
      "11/11 [==============================] - 0s 5ms/step - loss: 0.2844 - accuracy: 0.9219 - val_loss: 0.1895 - val_accuracy: 0.9322\n",
      "Epoch 48/300\n",
      "11/11 [==============================] - 0s 6ms/step - loss: 0.2839 - accuracy: 0.9219 - val_loss: 0.1890 - val_accuracy: 0.9322\n",
      "Epoch 49/300\n",
      "11/11 [==============================] - 0s 6ms/step - loss: 0.2834 - accuracy: 0.9219 - val_loss: 0.1882 - val_accuracy: 0.9322\n",
      "Epoch 50/300\n",
      "11/11 [==============================] - 0s 6ms/step - loss: 0.2829 - accuracy: 0.9219 - val_loss: 0.1876 - val_accuracy: 0.9322\n",
      "Epoch 51/300\n",
      "11/11 [==============================] - 0s 6ms/step - loss: 0.2825 - accuracy: 0.9219 - val_loss: 0.1873 - val_accuracy: 0.9322\n",
      "Epoch 52/300\n",
      "11/11 [==============================] - 0s 6ms/step - loss: 0.2818 - accuracy: 0.9219 - val_loss: 0.1869 - val_accuracy: 0.9322\n",
      "Epoch 53/300\n",
      "11/11 [==============================] - 0s 6ms/step - loss: 0.2814 - accuracy: 0.9219 - val_loss: 0.1866 - val_accuracy: 0.9322\n",
      "Epoch 54/300\n",
      "11/11 [==============================] - 0s 6ms/step - loss: 0.2810 - accuracy: 0.9219 - val_loss: 0.1858 - val_accuracy: 0.9322\n",
      "Epoch 55/300\n",
      "11/11 [==============================] - 0s 6ms/step - loss: 0.2805 - accuracy: 0.9219 - val_loss: 0.1864 - val_accuracy: 0.9322\n"
     ]
    }
   ],
   "source": [
    "history = model.fit(train_X, train_y,  validation_data = (test_X, test_y), epochs=300,callbacks=[early_stopping])\n"
   ]
  },
  {
   "cell_type": "code",
   "execution_count": 139,
   "id": "e80be0b2",
   "metadata": {},
   "outputs": [],
   "source": [
    "def display_learning_curves(history):\n",
    "    fig, (ax1, ax2) = plt.subplots(1, 2, figsize=(15, 5))\n",
    "\n",
    "    ax1.plot(history.history[\"loss\"])\n",
    "    ax1.plot(history.history[\"val_loss\"])\n",
    "    ax1.legend([\"train\", \"test\"], loc=\"upper right\")\n",
    "    ax1.set_xlabel(\"Epochs\")\n",
    "    ax1.set_ylabel(\"Loss\")\n",
    "\n",
    "    ax2.plot(history.history[\"accuracy\"])\n",
    "    ax2.plot(history.history[\"val_accuracy\"])\n",
    "    ax2.legend([\"train\", \"test\"], loc=\"upper right\")\n",
    "    ax2.set_xlabel(\"Epochs\")\n",
    "    ax2.set_ylabel(\"Accuracy\")\n",
    "    plt.show()\n",
    "    \n"
   ]
  },
  {
   "cell_type": "code",
   "execution_count": 140,
   "id": "536dad32",
   "metadata": {},
   "outputs": [
    {
     "data": {
      "image/png": "[encoded data removed]",
      "text/plain": [
       "<Figure size 1080x360 with 2 Axes>"
      ]
     },
     "metadata": {
      "needs_background": "light"
     },
     "output_type": "display_data"
    }
   ],
   "source": [
    "display_learning_curves(history)"
   ]
  },
  {
   "cell_type": "code",
   "execution_count": null,
   "id": "64f5ccc9",
   "metadata": {},
   "outputs": [],
   "source": [
    "\n"
   ]
  },
  {
   "cell_type": "code",
   "execution_count": null,
   "id": "f262a685",
   "metadata": {},
   "outputs": [],
   "source": []
  },
  {
   "cell_type": "code",
   "execution_count": null,
   "id": "b9bd43ce",
   "metadata": {},
   "outputs": [],
   "source": []
  },
  {
   "cell_type": "code",
   "execution_count": null,
   "id": "d8c4ad9d",
   "metadata": {},
   "outputs": [],
   "source": []
  },
  {
   "cell_type": "code",
   "execution_count": null,
   "id": "feb774fb",
   "metadata": {},
   "outputs": [],
   "source": []
  },
  {
   "cell_type": "code",
   "execution_count": null,
   "id": "db7247f8",
   "metadata": {},
   "outputs": [],
   "source": []
  },
  {
   "cell_type": "code",
   "execution_count": null,
   "id": "7c2c4167",
   "metadata": {},
   "outputs": [],
   "source": []
  },
  {
   "cell_type": "code",
   "execution_count": null,
   "id": "28740e21",
   "metadata": {},
   "outputs": [],
   "source": []
  }
 ],
 "metadata": {
  "kernelspec": {
   "display_name": "Python 3",
   "language": "python",
   "name": "python3"
  },
  "language_info": {
   "codemirror_mode": {
    "name": "ipython",
    "version": 3
   },
   "file_extension": ".py",
   "mimetype": "text/x-python",
   "name": "python",
   "nbconvert_exporter": "python",
   "pygments_lexer": "ipython3",
   "version": "3.8.8"
  }
 },
 "nbformat": 4,
 "nbformat_minor": 5
}
